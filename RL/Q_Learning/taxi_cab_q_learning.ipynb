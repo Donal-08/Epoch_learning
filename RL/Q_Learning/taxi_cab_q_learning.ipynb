{
 "cells": [
  {
   "cell_type": "markdown",
   "id": "ad4a3734",
   "metadata": {},
   "source": [
    "# Reinforcement Learning : SmartCab from OpenAI Gym"
   ]
  },
  {
   "cell_type": "markdown",
   "id": "ad0c1692",
   "metadata": {},
   "source": [
    "## Problem Statement (from Gym docs):\n",
    "\n",
    "\"There are four designated locations in the grid world indicated by R(ed), G(reen), Y(ellow), and B(lue). When the episode starts, the taxi starts off at a random square and the passenger is at a random location. The taxi drives to the passenger’s location, picks up the passenger, drives to the passenger’s destination (another one of the four specified locations), and then drops off the passenger. Once the passenger is dropped off, the episode ends.\""
   ]
  },
  {
   "cell_type": "markdown",
   "id": "abfaa1fd",
   "metadata": {},
   "source": [
    "## 1. Install all dependencies"
   ]
  },
  {
   "cell_type": "code",
   "execution_count": 3,
   "id": "c7ec18b7",
   "metadata": {},
   "outputs": [
    {
     "name": "stdout",
     "output_type": "stream",
     "text": [
      "Requirement already satisfied: cmake in c:\\users\\user\\appdata\\local\\programs\\python\\python310\\lib\\site-packages (3.24.3)\n",
      "Note: you may need to restart the kernel to use updated packages.\n"
     ]
    }
   ],
   "source": [
    "pip install cmake"
   ]
  },
  {
   "cell_type": "code",
   "execution_count": 4,
   "id": "5db08111",
   "metadata": {},
   "outputs": [
    {
     "name": "stdout",
     "output_type": "stream",
     "text": [
      "Requirement already satisfied: gym[atari] in c:\\users\\user\\appdata\\local\\programs\\python\\python310\\lib\\site-packages (0.21.0)\n",
      "Requirement already satisfied: numpy>=1.18.0 in c:\\users\\user\\appdata\\local\\programs\\python\\python310\\lib\\site-packages (from gym[atari]) (1.22.3)\n",
      "Requirement already satisfied: cloudpickle>=1.2.0 in c:\\users\\user\\appdata\\local\\programs\\python\\python310\\lib\\site-packages (from gym[atari]) (2.1.0)\n",
      "Requirement already satisfied: ale-py~=0.7.1 in c:\\users\\user\\appdata\\local\\programs\\python\\python310\\lib\\site-packages (from gym[atari]) (0.7.5)\n",
      "Requirement already satisfied: importlib-resources in c:\\users\\user\\appdata\\local\\programs\\python\\python310\\lib\\site-packages (from ale-py~=0.7.1->gym[atari]) (5.8.0)\n"
     ]
    }
   ],
   "source": [
    "!pip install gym[atari]"
   ]
  },
  {
   "cell_type": "code",
   "execution_count": 1,
   "id": "a43be3a3",
   "metadata": {},
   "outputs": [
    {
     "name": "stdout",
     "output_type": "stream",
     "text": [
      "Requirement already satisfied: scipy in c:\\users\\user\\appdata\\local\\programs\\python\\python310\\lib\\site-packages (1.8.1)\n",
      "Requirement already satisfied: numpy<1.25.0,>=1.17.3 in c:\\users\\user\\appdata\\local\\programs\\python\\python310\\lib\\site-packages (from scipy) (1.22.3)\n"
     ]
    }
   ],
   "source": [
    "!pip install scipy"
   ]
  },
  {
   "cell_type": "markdown",
   "id": "0810c032",
   "metadata": {},
   "source": [
    "## 2. Load the game environment"
   ]
  },
  {
   "cell_type": "code",
   "execution_count": 2,
   "id": "3d43cc10",
   "metadata": {},
   "outputs": [
    {
     "name": "stdout",
     "output_type": "stream",
     "text": [
      "+---------+\n",
      "|\u001b[34;1mR\u001b[0m: | : :\u001b[35mG\u001b[0m|\n",
      "| : | : : |\n",
      "| : : : : |\n",
      "| | : | : |\n",
      "|Y|\u001b[43m \u001b[0m: |B: |\n",
      "+---------+\n",
      "\n"
     ]
    }
   ],
   "source": [
    "import gym\n",
    "\n",
    "env = gym.make(\"Taxi-v3\").env\n",
    "\n",
    "env.render()      # renders one frame of the environment"
   ]
  },
  {
   "cell_type": "code",
   "execution_count": 3,
   "id": "46ae6cc3",
   "metadata": {},
   "outputs": [
    {
     "name": "stdout",
     "output_type": "stream",
     "text": [
      "+---------+\n",
      "|R: | : :\u001b[34;1mG\u001b[0m|\n",
      "| : | : : |\n",
      "| : : :\u001b[43m \u001b[0m: |\n",
      "| | : | : |\n",
      "|Y| : |\u001b[35mB\u001b[0m: |\n",
      "+---------+\n",
      "\n",
      "Action Space (Discrete(6))\n",
      "State Space Discrete(500)\n"
     ]
    }
   ],
   "source": [
    "env.reset() # reset the environment to a random initial state \n",
    "env.render()  # visualise our environment \n",
    "\n",
    "\n",
    "print(f\"Action Space ({env.action_space})\")\n",
    "print(f\"State Space {(env.observation_space)}\")"
   ]
  },
  {
   "cell_type": "markdown",
   "id": "891092cb",
   "metadata": {},
   "source": [
    "## Encoding a random initial state for the consistency of illustration : -\n",
    " Out of all the 500 state space possible, I choose a random state and encode it and give it to the environment to render in Gym. In my case , the taxi at row 3, column 4, our passenger is at location 2, and our destination is location 3\n",
    "\n",
    "### Note: One may start with any random state and hence feel free to play around with the state "
   ]
  },
  {
   "cell_type": "code",
   "execution_count": 4,
   "id": "9d627b14",
   "metadata": {},
   "outputs": [
    {
     "name": "stdout",
     "output_type": "stream",
     "text": [
      "State: 391\n",
      "+---------+\n",
      "|R: | : :G|\n",
      "| : | : : |\n",
      "| : : : : |\n",
      "| | : | :\u001b[43m \u001b[0m|\n",
      "|\u001b[34;1mY\u001b[0m| : |\u001b[35mB\u001b[0m: |\n",
      "+---------+\n",
      "\n"
     ]
    }
   ],
   "source": [
    "# Passenger locations:                 Destinations :\n",
    "# 0: R(ed)                                0: R(ed)\n",
    "# 1: G(reen)                              1: G(reen)\n",
    "# 2: Y(ellow)                             2: Y(ellow)\n",
    "# 3: B(lue)                               3: B(lue)\n",
    "# 4: in taxi\n",
    "\n",
    "# Encoding the state of the above \n",
    "\n",
    "state = env.encode(3, 4, 2, 3) # (taxi_row, taxi_column, passenger_index, destination_index)\n",
    "print(\"State:\", state)\n",
    "\n",
    "env.s = state\n",
    "env.render()       # visualise the current environment"
   ]
  },
  {
   "cell_type": "markdown",
   "id": "e6547b57",
   "metadata": {},
   "source": [
    "### The Reward Table\n",
    " When the Taxi environment is created, there is an initial Reward table that's also created, called 'P'. We can think of it like a (states x actions) matrix"
   ]
  },
  {
   "cell_type": "code",
   "execution_count": 5,
   "id": "ac90840b",
   "metadata": {},
   "outputs": [
    {
     "data": {
      "text/plain": [
       "{0: [(1.0, 491, -1, False)],\n",
       " 1: [(1.0, 291, -1, False)],\n",
       " 2: [(1.0, 391, -1, False)],\n",
       " 3: [(1.0, 371, -1, False)],\n",
       " 4: [(1.0, 391, -10, False)],\n",
       " 5: [(1.0, 391, -10, False)]}"
      ]
     },
     "execution_count": 5,
     "metadata": {},
     "output_type": "execute_result"
    }
   ],
   "source": [
    "env.P[state]  \n",
    "\n",
    "# Actions : There are 6 deterministic actions\n",
    "# 0: move south\n",
    "# 1: move north\n",
    "# 2: move east\n",
    "# 3: move west\n",
    "# 4: pickup passenger\n",
    "# 5: drop off passenger\n",
    "\n",
    "\n",
    "# {action: [(probability, nextstate, reward, done)]} "
   ]
  },
  {
   "cell_type": "markdown",
   "id": "6842e960",
   "metadata": {},
   "source": [
    "## Without Reinforcement Learning\n",
    "Run an infinite loop. Stop when one passenger reaches one destination (one episode), or in other words, when the received reward is 20 "
   ]
  },
  {
   "cell_type": "code",
   "execution_count": 6,
   "id": "9ff15b4e",
   "metadata": {},
   "outputs": [
    {
     "name": "stdout",
     "output_type": "stream",
     "text": [
      "Timesteps taken: 3731\n",
      "Penalties incurred: 1230\n"
     ]
    }
   ],
   "source": [
    "env.s = state  # set environment to our illustration's state\n",
    "\n",
    "# To keep track of the number of actions/loops taken for a correct drop-off \n",
    "epochs = 0\n",
    "# Number of illegal pickup and drop-off actions to get a correct drop-off\n",
    "penalties = 0\n",
    "\n",
    "frames = [] # for animation\n",
    "\n",
    "done = False\n",
    "\n",
    "while not done:\n",
    "    action = env.action_space.sample()           # take a random action\n",
    "    observation, reward, done, info = env.step(action)  # What the env returns in response to the random action taken \n",
    "\n",
    "    \n",
    "    # -10 reward for illegal “pickup” and “drop-off” actions, deemed as penalty\n",
    "    if reward == -10:\n",
    "        penalties += 1\n",
    "    \n",
    "    \n",
    "    # Put each rendered frame into dictionary for animation(to be used later)\n",
    "    frames.append({\n",
    "        'frame': env.render(mode='ansi'),  \n",
    "        'state': observation,\n",
    "        'action': action,\n",
    "        'reward': reward\n",
    "        }\n",
    "    )\n",
    "\n",
    "    epochs += 1\n",
    "    \n",
    "   \n",
    "print(f\"Timesteps taken: {epochs}\")\n",
    "print(f\"Penalties incurred: {penalties}\")"
   ]
  },
  {
   "cell_type": "markdown",
   "id": "039362e0",
   "metadata": {},
   "source": [
    "### Conclusion\n",
    " As we are taking random actions , it is quite obvious that our agent would'nt be good as it takes thousands of timesteps and lot of wrong drop-offs to deliver just one passenger correctly.\n",
    "\n",
    "REASON : We are not learning from our mistakes, past experiences. The agent has no memory"
   ]
  },
  {
   "cell_type": "markdown",
   "id": "4a55af1b",
   "metadata": {},
   "source": [
    "### Visualising "
   ]
  },
  {
   "cell_type": "code",
   "execution_count": 7,
   "id": "02175c4c",
   "metadata": {},
   "outputs": [
    {
     "name": "stdout",
     "output_type": "stream",
     "text": [
      "+---------+\n",
      "|R: | : :G|\n",
      "| : | : : |\n",
      "| : : : : |\n",
      "| | : | : |\n",
      "|\u001b[34;1m\u001b[43mY\u001b[0m\u001b[0m| : |\u001b[35mB\u001b[0m: |\n",
      "+---------+\n",
      "  (West)\n",
      "\n",
      "Timestep: 2276\n",
      "State: 411\n",
      "Action: 3\n",
      "Reward: -1\n"
     ]
    },
    {
     "ename": "KeyboardInterrupt",
     "evalue": "",
     "output_type": "error",
     "traceback": [
      "\u001b[1;31m---------------------------------------------------------------------------\u001b[0m",
      "\u001b[1;31mKeyboardInterrupt\u001b[0m                         Traceback (most recent call last)",
      "Input \u001b[1;32mIn [7]\u001b[0m, in \u001b[0;36m<cell line: 16>\u001b[1;34m()\u001b[0m\n\u001b[0;32m     13\u001b[0m         \u001b[38;5;28mprint\u001b[39m(\u001b[38;5;124mf\u001b[39m\u001b[38;5;124m\"\u001b[39m\u001b[38;5;124mReward: \u001b[39m\u001b[38;5;132;01m{\u001b[39;00mframe[\u001b[38;5;124m'\u001b[39m\u001b[38;5;124mreward\u001b[39m\u001b[38;5;124m'\u001b[39m]\u001b[38;5;132;01m}\u001b[39;00m\u001b[38;5;124m\"\u001b[39m)\n\u001b[0;32m     14\u001b[0m         sleep(\u001b[38;5;241m.05\u001b[39m)\n\u001b[1;32m---> 16\u001b[0m \u001b[43mprint_frames\u001b[49m\u001b[43m(\u001b[49m\u001b[43mframes\u001b[49m\u001b[43m)\u001b[49m\n",
      "Input \u001b[1;32mIn [7]\u001b[0m, in \u001b[0;36mprint_frames\u001b[1;34m(frames)\u001b[0m\n\u001b[0;32m     12\u001b[0m \u001b[38;5;28mprint\u001b[39m(\u001b[38;5;124mf\u001b[39m\u001b[38;5;124m\"\u001b[39m\u001b[38;5;124mAction: \u001b[39m\u001b[38;5;132;01m{\u001b[39;00mframe[\u001b[38;5;124m'\u001b[39m\u001b[38;5;124maction\u001b[39m\u001b[38;5;124m'\u001b[39m]\u001b[38;5;132;01m}\u001b[39;00m\u001b[38;5;124m\"\u001b[39m)\n\u001b[0;32m     13\u001b[0m \u001b[38;5;28mprint\u001b[39m(\u001b[38;5;124mf\u001b[39m\u001b[38;5;124m\"\u001b[39m\u001b[38;5;124mReward: \u001b[39m\u001b[38;5;132;01m{\u001b[39;00mframe[\u001b[38;5;124m'\u001b[39m\u001b[38;5;124mreward\u001b[39m\u001b[38;5;124m'\u001b[39m]\u001b[38;5;132;01m}\u001b[39;00m\u001b[38;5;124m\"\u001b[39m)\n\u001b[1;32m---> 14\u001b[0m \u001b[43msleep\u001b[49m\u001b[43m(\u001b[49m\u001b[38;5;241;43m.05\u001b[39;49m\u001b[43m)\u001b[49m\n",
      "\u001b[1;31mKeyboardInterrupt\u001b[0m: "
     ]
    }
   ],
   "source": [
    "\n",
    "from IPython.display import clear_output\n",
    "from time import sleep\n",
    "\n",
    "# print(frames[0]['frame'])\n",
    "\n",
    "def print_frames(frames):\n",
    "    for i, frame in enumerate(frames):\n",
    "        clear_output(wait=True)\n",
    "        print(frame['frame'])               # display a popup window (animation)\n",
    "        print(f\"Timestep: {i + 1}\")\n",
    "        print(f\"State: {frame['state']}\")\n",
    "        print(f\"Action: {frame['action']}\")\n",
    "        print(f\"Reward: {frame['reward']}\")\n",
    "        sleep(.05)\n",
    "        \n",
    "print_frames(frames)"
   ]
  },
  {
   "attachments": {
    "image.png": {
     "image/png": "[encoded data removed]"
    }
   },
   "cell_type": "markdown",
   "id": "f0ab9dd0",
   "metadata": {},
   "source": [
    "##  Q learning \n",
    "-  Q-learning lets the agent use the environment's rewards to learn, over time, the best action to take in a given state.\n",
    "\n",
    "-  Q-values stored in the Q table are indicative of how good the action was, taken from that state.\n",
    "\n",
    "- First, Q values are arbitrarily initialised , then regularly updated as the agent explores the environment and recieves different rewards for its action according to the equation:- \n",
    "![image.png](attachment:image.png)\n",
    "\n",
    "- Here, $\\alpha$ - learning rate , the extent to which our Q-values are being updated in every iteration.\n",
    "\n",
    "- $\\gamma$ - discount factor, higher value implies giving much importance to long-term rewards , a value of 0 means it considers only immediate reward (Greedy)\n",
    "\n"
   ]
  },
  {
   "cell_type": "markdown",
   "id": "da1044a9",
   "metadata": {},
   "source": [
    "### Creating the Q-table"
   ]
  },
  {
   "cell_type": "code",
   "execution_count": 8,
   "id": "d3a91b88",
   "metadata": {},
   "outputs": [],
   "source": [
    "import numpy as np\n",
    "\n",
    "# initialize the Q-table -> (state X action) matrix\n",
    "n_states = env.observation_space.n\n",
    "n_actions = env.action_space.n\n",
    "\n",
    "q_table = np.zeros([n_states, n_actions])"
   ]
  },
  {
   "cell_type": "markdown",
   "id": "5c867739",
   "metadata": {},
   "source": [
    "### Training"
   ]
  },
  {
   "cell_type": "code",
   "execution_count": 14,
   "id": "227011b9",
   "metadata": {},
   "outputs": [
    {
     "name": "stdout",
     "output_type": "stream",
     "text": [
      "Episode: 100000\n",
      "Training finished.\n",
      "\n",
      "CPU times: total: 35.5 s\n",
      "Wall time: 31.9 s\n"
     ]
    }
   ],
   "source": [
    "%%time\n",
    "\"\"\"Training Algorithm\"\"\"\n",
    "\n",
    "import random\n",
    "from IPython.display import clear_output\n",
    "\n",
    "# Hyperparameters\n",
    "alpha = 0.1\n",
    "gamma = 0.6\n",
    "epsilon = 0.1\n",
    "\n",
    "# For plotting metrics\n",
    "all_epochs = []\n",
    "all_penalties = []\n",
    "\n",
    "for i in range(1, 100001):\n",
    "    state = env.reset()\n",
    "\n",
    "    epochs, penalties, reward, = 0, 0, 0\n",
    "    done = False\n",
    "    \n",
    "    while not done:\n",
    "        \n",
    "        # Deciding whether to exploit or explore :\n",
    "        if random.uniform(0, 1) < epsilon:  \n",
    "            action = env.action_space.sample() # Explore action space\n",
    "        else:\n",
    "            action = np.argmax(q_table[state]) # Exploit learned values\n",
    "\n",
    "        next_state, reward, done, info = env.step(action) \n",
    "        \n",
    "        old_value = q_table[state, action]\n",
    "        max_among_next = np.max(q_table[next_state])\n",
    "        \n",
    "        # updating the Q-values according to the equation\n",
    "        new_value = (1 - alpha) * old_value + alpha * (reward + gamma * max_among_next)\n",
    "        q_table[state, action] = new_value\n",
    "        \n",
    "\n",
    "#         if reward == -10:\n",
    "#             penalties += 1\n",
    "\n",
    "        state = next_state\n",
    "        epochs += 1\n",
    "        \n",
    "    if i % 100 == 0:\n",
    "        clear_output(wait=True)\n",
    "        print(f\"Episode: {i}\")\n",
    "\n",
    "print(\"Training finished.\\n\")"
   ]
  },
  {
   "cell_type": "code",
   "execution_count": 15,
   "id": "cb04f10d",
   "metadata": {},
   "outputs": [
    {
     "data": {
      "text/plain": [
       "array([ -2.49553105,  -2.48942084,  -2.49331044,  -2.48942084,\n",
       "       -11.26798761, -10.9836251 ])"
      ]
     },
     "execution_count": 15,
     "metadata": {},
     "output_type": "execute_result"
    }
   ],
   "source": [
    "# Q-values at our illustration's state: \n",
    "state = 391\n",
    "q_table[state]"
   ]
  },
  {
   "cell_type": "markdown",
   "id": "26a5405c",
   "metadata": {},
   "source": [
    "### Evaluation of our model"
   ]
  },
  {
   "cell_type": "code",
   "execution_count": 18,
   "id": "81732840",
   "metadata": {},
   "outputs": [
    {
     "name": "stdout",
     "output_type": "stream",
     "text": [
      "Results after 10 episodes:\n",
      "Average timesteps per episode: 13.2\n",
      "Average penalties per episode: 0.0\n"
     ]
    }
   ],
   "source": [
    "\"\"\"Evaluate agent's performance after Q-learning\"\"\"\n",
    "\n",
    "total_epochs, total_penalties = 0, 0\n",
    "episodes = 10\n",
    "list_of_frames = []            # to visualise\n",
    "\n",
    "for _ in range(episodes):\n",
    "    observation = env.reset()\n",
    "    epochs, penalties, reward = 0, 0, 0\n",
    "    \n",
    "    frames = []\n",
    "    done = False\n",
    "    \n",
    "    while not done:\n",
    "        action = np.argmax(q_table[observation])\n",
    "        observation, reward, done, info = env.step(action)\n",
    "\n",
    "        if reward == -10:\n",
    "            penalties += 1\n",
    "\n",
    "    # Put each rendered frame into dictionary for animation(to be used later)\n",
    "        frames.append({\n",
    "            'frame': env.render(mode='ansi'),  \n",
    "            'state': observation,\n",
    "            'action': action,\n",
    "            'reward': reward\n",
    "            }\n",
    "        )\n",
    "        \n",
    "        epochs += 1\n",
    "\n",
    "    list_of_frames.append(frames)\n",
    "    total_penalties += penalties\n",
    "    total_epochs += epochs\n",
    "\n",
    "print(f\"Results after {episodes} episodes:\")\n",
    "print(f\"Average timesteps per episode: {total_epochs / episodes}\")\n",
    "print(f\"Average penalties per episode: {total_penalties / episodes}\")\n"
   ]
  },
  {
   "cell_type": "markdown",
   "id": "12528f3f",
   "metadata": {},
   "source": [
    "### Visualising our trained-model's performance (Evaluating)"
   ]
  },
  {
   "cell_type": "code",
   "execution_count": 22,
   "id": "4fa74083",
   "metadata": {},
   "outputs": [
    {
     "name": "stdout",
     "output_type": "stream",
     "text": [
      "Dropping off Passenger number :10\n",
      "+---------+\n",
      "|R: | : :G|\n",
      "| : | : : |\n",
      "| : : : : |\n",
      "| | : | : |\n",
      "|\u001b[35m\u001b[34;1m\u001b[43mY\u001b[0m\u001b[0m\u001b[0m| : |B: |\n",
      "+---------+\n",
      "  (Dropoff)\n",
      "\n",
      "Timestep: 10\n",
      "State: 410\n",
      "Action: 5\n",
      "Reward: 20\n"
     ]
    }
   ],
   "source": [
    "from IPython.display import clear_output\n",
    "from time import sleep\n",
    "\n",
    "# print(frames[0]['frame'])\n",
    "\n",
    "passenger_no = 0\n",
    "\n",
    "def print_frames(frames):\n",
    "    \n",
    "    global passenger_no\n",
    "    passenger_no += 1\n",
    "    \n",
    "    for i, frame in enumerate(frames):\n",
    "        clear_output(wait=True)\n",
    "        print(f\"Dropping off Passenger number :{passenger_no}\")\n",
    "        print(frame['frame'])               # display a popup window (animation)\n",
    "        print(f\"Timestep: {i + 1}\")\n",
    "        print(f\"State: {frame['state']}\")\n",
    "        print(f\"Action: {frame['action']}\")\n",
    "        print(f\"Reward: {frame['reward']}\")\n",
    "        sleep(.5)\n",
    "        \n",
    "    sleep(1)\n",
    "    \n",
    "\n",
    "\n",
    "for frames in list_of_frames:\n",
    "    print_frames(frames)"
   ]
  },
  {
   "cell_type": "markdown",
   "id": "18924606",
   "metadata": {},
   "source": [
    "### No penalties => it performed the correct pickup/dropoff actions with 100 different passengers, without any illegal dropoff"
   ]
  },
  {
   "cell_type": "code",
   "execution_count": null,
   "id": "a7dc3d9b",
   "metadata": {},
   "outputs": [],
   "source": []
  }
 ],
 "metadata": {
  "kernelspec": {
   "display_name": "Python 3 (ipykernel)",
   "language": "python",
   "name": "python3"
  },
  "language_info": {
   "codemirror_mode": {
    "name": "ipython",
    "version": 3
   },
   "file_extension": ".py",
   "mimetype": "text/x-python",
   "name": "python",
   "nbconvert_exporter": "python",
   "pygments_lexer": "ipython3",
   "version": "3.10.4"
  }
 },
 "nbformat": 4,
 "nbformat_minor": 5
}
